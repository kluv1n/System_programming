{
 "cells": [
  {
   "cell_type": "code",
   "execution_count": 2,
   "metadata": {},
   "outputs": [
    {
     "data": {
      "text/plain": [
       "'((((c*b)+a)-b)/c)'"
      ]
     },
     "execution_count": 2,
     "metadata": {},
     "output_type": "execute_result"
    }
   ],
   "source": [
    "import random as rd\n",
    "import pandas as pd\n",
    "import math\n",
    "\n",
    "Variant = 9\n",
    "rd.seed(Variant)\n",
    "\n",
    "set_operations = ['-','+','*','/']\n",
    "set_operands = ['a', 'b', 'c']\n",
    "count_operations = rd.randint(3,5)\n",
    "\n",
    "expression = set_operands[rd.randint(0,len(set_operands)-1)]\n",
    "for i in range(count_operations):\n",
    "    current_operation = set_operations[rd.randint(0,len(set_operations)-1)]\n",
    "    current_operand = set_operands[rd.randint(0,len(set_operands)-1)]\n",
    "    expression = \"(\" + expression + current_operation + current_operand + \")\"\n",
    "expression"
   ]
  }
 ],
 "metadata": {
  "kernelspec": {
   "display_name": "Python 3",
   "language": "python",
   "name": "python3"
  },
  "language_info": {
   "codemirror_mode": {
    "name": "ipython",
    "version": 3
   },
   "file_extension": ".py",
   "mimetype": "text/x-python",
   "name": "python",
   "nbconvert_exporter": "python",
   "pygments_lexer": "ipython3",
   "version": "3.12.1"
  }
 },
 "nbformat": 4,
 "nbformat_minor": 2
}
